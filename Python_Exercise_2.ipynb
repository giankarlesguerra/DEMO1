{
  "nbformat": 4,
  "nbformat_minor": 0,
  "metadata": {
    "colab": {
      "name": "Python Exercise 2.ipynb",
      "provenance": [],
      "authorship_tag": "ABX9TyO/1LFD9+LLbphNEddDZEbY",
      "include_colab_link": true
    },
    "kernelspec": {
      "name": "python3",
      "display_name": "Python 3"
    },
    "language_info": {
      "name": "python"
    }
  },
  "cells": [
    {
      "cell_type": "markdown",
      "metadata": {
        "id": "view-in-github",
        "colab_type": "text"
      },
      "source": [
        "<a href=\"https://colab.research.google.com/github/giankarlesguerra/Numerical-Methods/blob/main/Python_Exercise_2.ipynb\" target=\"_parent\"><img src=\"https://colab.research.google.com/assets/colab-badge.svg\" alt=\"Open In Colab\"/></a>"
      ]
    },
    {
      "cell_type": "markdown",
      "metadata": {
        "id": "Qp3rvIoWbZyQ"
      },
      "source": [
        "#**Matrix and Its Operations**"
      ]
    },
    {
      "cell_type": "code",
      "metadata": {
        "id": "Vy8V3UvKbc2r"
      },
      "source": [
        "import numpy as np"
      ],
      "execution_count": 2,
      "outputs": []
    },
    {
      "cell_type": "markdown",
      "metadata": {
        "id": "owYCZydTi55k"
      },
      "source": [
        "$$A = \\begin{bmatrix} -5 & 0 \\\\4 & 1 \\\\\\end{bmatrix} , B = \\begin{bmatrix} 6 & -3\\\\2 & 3\\\\\\end{bmatrix} $$"
      ]
    },
    {
      "cell_type": "code",
      "metadata": {
        "colab": {
          "base_uri": "https://localhost:8080/"
        },
        "id": "lLb7929Pbc8O",
        "outputId": "d58ae741-c331-4697-f48a-65cb811c47c4"
      },
      "source": [
        "A = np.array([[-5,0],[4,1]])\n",
        "B = np.array([[6,-3],[2,3]])\n",
        "\n",
        "print(A)\n",
        "print(B)\n",
        "print(A.shape)\n",
        "print(B.shape)"
      ],
      "execution_count": 11,
      "outputs": [
        {
          "output_type": "stream",
          "name": "stdout",
          "text": [
            "[[-5  0]\n",
            " [ 4  1]]\n",
            "[[ 6 -3]\n",
            " [ 2  3]]\n",
            "(2, 2)\n",
            "(2, 2)\n"
          ]
        }
      ]
    },
    {
      "cell_type": "markdown",
      "metadata": {
        "id": "xfymw3TRkKm1"
      },
      "source": [
        "**1. sum = A +B**"
      ]
    },
    {
      "cell_type": "code",
      "metadata": {
        "colab": {
          "base_uri": "https://localhost:8080/"
        },
        "id": "ACZTOu7JcbW1",
        "outputId": "934a02d2-26e6-4345-d162-ae8cb5fc6862"
      },
      "source": [
        "sum = (A + B)\n",
        "print(sum)"
      ],
      "execution_count": 12,
      "outputs": [
        {
          "output_type": "stream",
          "name": "stdout",
          "text": [
            "[[ 1 -3]\n",
            " [ 6  4]]\n"
          ]
        }
      ]
    },
    {
      "cell_type": "markdown",
      "metadata": {
        "id": "UzWpnVExkJks"
      },
      "source": [
        "**2.difference1 = B - A**"
      ]
    },
    {
      "cell_type": "code",
      "metadata": {
        "colab": {
          "base_uri": "https://localhost:8080/"
        },
        "id": "mDiGkr09ctE2",
        "outputId": "12129309-1db5-404b-e26f-1b6de146e261"
      },
      "source": [
        "difference1 = (B - A)\n",
        "print(difference1)"
      ],
      "execution_count": 14,
      "outputs": [
        {
          "output_type": "stream",
          "name": "stdout",
          "text": [
            "[[11 -3]\n",
            " [-2  2]]\n"
          ]
        }
      ]
    },
    {
      "cell_type": "markdown",
      "metadata": {
        "id": "CNTyZA4JkaGZ"
      },
      "source": [
        "**3.difference2 = A - B**"
      ]
    },
    {
      "cell_type": "code",
      "metadata": {
        "colab": {
          "base_uri": "https://localhost:8080/"
        },
        "id": "6mvp_mGOcwT2",
        "outputId": "0bc0edcb-ef68-431a-e747-72eb33d8dc2c"
      },
      "source": [
        "difference2 = (A - B)\n",
        "print(difference2)"
      ],
      "execution_count": 15,
      "outputs": [
        {
          "output_type": "stream",
          "name": "stdout",
          "text": [
            "[[-11   3]\n",
            " [  2  -2]]\n"
          ]
        }
      ]
    }
  ]
}