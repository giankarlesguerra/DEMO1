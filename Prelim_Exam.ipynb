{
  "nbformat": 4,
  "nbformat_minor": 0,
  "metadata": {
    "colab": {
      "name": "Prelim Exam.ipynb",
      "provenance": [],
      "authorship_tag": "ABX9TyM23N/ujpF3d3JNPsxYQCRz",
      "include_colab_link": true
    },
    "kernelspec": {
      "name": "python3",
      "display_name": "Python 3"
    },
    "language_info": {
      "name": "python"
    }
  },
  "cells": [
    {
      "cell_type": "markdown",
      "metadata": {
        "id": "view-in-github",
        "colab_type": "text"
      },
      "source": [
        "<a href=\"https://colab.research.google.com/github/giankarlesguerra/Numerical-Methods/blob/main/Prelim_Exam.ipynb\" target=\"_parent\"><img src=\"https://colab.research.google.com/assets/colab-badge.svg\" alt=\"Open In Colab\"/></a>"
      ]
    },
    {
      "cell_type": "markdown",
      "metadata": {
        "id": "-dFlMPAuQ9fL"
      },
      "source": [
        "#Prelim Exam\n"
      ]
    },
    {
      "cell_type": "markdown",
      "metadata": {
        "id": "-uxH9-DESoZb"
      },
      "source": [
        "$$A = \\begin{bmatrix} 1 & 2 & 3 \\\\2 & 3 & 3 \\\\ 3 & 4 & -2 \\\\\\end{bmatrix} $$"
      ]
    },
    {
      "cell_type": "code",
      "metadata": {
        "id": "mQZhPV1MNd4W"
      },
      "source": [
        "import numpy as np"
      ],
      "execution_count": 1,
      "outputs": []
    },
    {
      "cell_type": "code",
      "metadata": {
        "colab": {
          "base_uri": "https://localhost:8080/"
        },
        "id": "FAAcT4e2RHdB",
        "outputId": "4ec498b1-1076-42c6-f631-4972a8f2d3d7"
      },
      "source": [
        "A = np.array([[1,2,3],[2,3,3],[3,4,-2]])\n",
        "B = np.linalg.det(A)\n",
        "B"
      ],
      "execution_count": 4,
      "outputs": [
        {
          "output_type": "execute_result",
          "data": {
            "text/plain": [
              "5.000000000000001"
            ]
          },
          "metadata": {},
          "execution_count": 4
        }
      ]
    }
  ]
}