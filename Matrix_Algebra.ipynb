{
  "nbformat": 4,
  "nbformat_minor": 0,
  "metadata": {
    "colab": {
      "name": "Matrix Algebra.ipynb",
      "provenance": [],
      "authorship_tag": "ABX9TyPYVtql6ct+HWaiMD3Q1OX8",
      "include_colab_link": true
    },
    "kernelspec": {
      "name": "python3",
      "display_name": "Python 3"
    },
    "language_info": {
      "name": "python"
    }
  },
  "cells": [
    {
      "cell_type": "markdown",
      "metadata": {
        "id": "view-in-github",
        "colab_type": "text"
      },
      "source": [
        "<a href=\"https://colab.research.google.com/github/giankarlesguerra/Numerical-Methods/blob/main/Matrix_Algebra.ipynb\" target=\"_parent\"><img src=\"https://colab.research.google.com/assets/colab-badge.svg\" alt=\"Open In Colab\"/></a>"
      ]
    },
    {
      "cell_type": "markdown",
      "metadata": {
        "id": "wYa_X391UVyL"
      },
      "source": [
        "Matrix and its Operation\n"
      ]
    },
    {
      "cell_type": "code",
      "metadata": {
        "id": "ovwbQ9IFUZy5"
      },
      "source": [
        "import numpy as np"
      ],
      "execution_count": 26,
      "outputs": []
    },
    {
      "cell_type": "code",
      "metadata": {
        "colab": {
          "base_uri": "https://localhost:8080/"
        },
        "id": "aC5TSAUyUf0h",
        "outputId": "4dbdae55-b188-4a60-e960-395d4897c092"
      },
      "source": [
        "a = np.array([1,2,3]) # 1 by 3 array\n",
        "a[0]=4\n",
        "print(a)\n"
      ],
      "execution_count": 12,
      "outputs": [
        {
          "output_type": "stream",
          "name": "stdout",
          "text": [
            "[4 2 3]\n"
          ]
        }
      ]
    },
    {
      "cell_type": "code",
      "metadata": {
        "colab": {
          "base_uri": "https://localhost:8080/"
        },
        "id": "8paV1IJ0U1Q4",
        "outputId": "9271132e-520d-4704-bc62-308ab7d4ddf6"
      },
      "source": [
        "b = np.array([[1,2,3],[4,5,6]]) # 2 by 3 matrix\n",
        "print(b.shape)\n",
        "b [0,0]=7\n",
        "print(b)"
      ],
      "execution_count": 13,
      "outputs": [
        {
          "output_type": "stream",
          "name": "stdout",
          "text": [
            "(2, 3)\n",
            "[[7 2 3]\n",
            " [4 5 6]]\n"
          ]
        }
      ]
    },
    {
      "cell_type": "code",
      "metadata": {
        "colab": {
          "base_uri": "https://localhost:8080/"
        },
        "id": "2nKA78BdXZn4",
        "outputId": "bc266bc0-3724-46e6-f031-7ba241ce84cd"
      },
      "source": [
        "c = np.array([[1,2,3],[4,5,6],[7,8,9]]) #sample of square matrix 3x3\n",
        "print(c)"
      ],
      "execution_count": 14,
      "outputs": [
        {
          "output_type": "stream",
          "name": "stdout",
          "text": [
            "[[1 2 3]\n",
            " [4 5 6]\n",
            " [7 8 9]]\n"
          ]
        }
      ]
    },
    {
      "cell_type": "code",
      "metadata": {
        "colab": {
          "base_uri": "https://localhost:8080/"
        },
        "id": "aJI2SYOAXvVP",
        "outputId": "de5611cf-6f6c-492f-886b-760bf2835982"
      },
      "source": [
        "d = np.full((2,2),4)\n",
        "print(d)"
      ],
      "execution_count": 20,
      "outputs": [
        {
          "output_type": "stream",
          "name": "stdout",
          "text": [
            "[[4 4]\n",
            " [4 4]]\n"
          ]
        }
      ]
    },
    {
      "cell_type": "code",
      "metadata": {
        "colab": {
          "base_uri": "https://localhost:8080/"
        },
        "id": "1zbZ6xnCYREQ",
        "outputId": "6901fc48-e475-4f75-fc79-0a5c9767fca4"
      },
      "source": [
        "e = np.eye(2)\n",
        "print(e)"
      ],
      "execution_count": 22,
      "outputs": [
        {
          "output_type": "stream",
          "name": "stdout",
          "text": [
            "[[1. 0.]\n",
            " [0. 1.]]\n"
          ]
        }
      ]
    },
    {
      "cell_type": "code",
      "metadata": {
        "colab": {
          "base_uri": "https://localhost:8080/"
        },
        "id": "48VWvuFJY4g2",
        "outputId": "7ab56f88-2ca3-4d45-b32e-4fa8b6b71339"
      },
      "source": [
        "f = np.diagonal([[1,2,3],[4,5,6],[7,8,9]])\n",
        "print(f)"
      ],
      "execution_count": 23,
      "outputs": [
        {
          "output_type": "stream",
          "name": "stdout",
          "text": [
            "[1 5 9]\n"
          ]
        }
      ]
    },
    {
      "cell_type": "code",
      "metadata": {
        "colab": {
          "base_uri": "https://localhost:8080/"
        },
        "id": "jSzHV6wNaeI-",
        "outputId": "6ec83044-1947-4203-dde4-f65e4fd1ba5b"
      },
      "source": [
        "e = np.eye(2)\n",
        "g = np.zeros((2,2))\n",
        "print(e)\n",
        "print(g)\n",
        "print(e+g)\n"
      ],
      "execution_count": 29,
      "outputs": [
        {
          "output_type": "stream",
          "name": "stdout",
          "text": [
            "[[1. 0.]\n",
            " [0. 1.]]\n",
            "[[0. 0.]\n",
            " [0. 0.]]\n",
            "[[1. 0.]\n",
            " [0. 1.]]\n"
          ]
        }
      ]
    },
    {
      "cell_type": "code",
      "metadata": {
        "id": "4PUor4EUbtkt"
      },
      "source": [
        ""
      ],
      "execution_count": null,
      "outputs": []
    }
  ]
}