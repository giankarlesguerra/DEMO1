{
  "nbformat": 4,
  "nbformat_minor": 0,
  "metadata": {
    "colab": {
      "name": "DEMO 1.ipynb",
      "provenance": [],
      "collapsed_sections": [],
      "authorship_tag": "ABX9TyPCyZb5Cz8ZOGlgEu4ncYgT",
      "include_colab_link": true
    },
    "kernelspec": {
      "name": "python3",
      "display_name": "Python 3"
    },
    "language_info": {
      "name": "python"
    }
  },
  "cells": [
    {
      "cell_type": "markdown",
      "metadata": {
        "id": "view-in-github",
        "colab_type": "text"
      },
      "source": [
        "<a href=\"https://colab.research.google.com/github/giankarlesguerra/DEMO1/blob/main/DEMO_1.ipynb\" target=\"_parent\"><img src=\"https://colab.research.google.com/assets/colab-badge.svg\" alt=\"Open In Colab\"/></a>"
      ]
    },
    {
      "cell_type": "code",
      "metadata": {
        "colab": {
          "base_uri": "https://localhost:8080/"
        },
        "id": "aMKaao9_k2e1",
        "outputId": "0a178452-05d2-4306-f907-edc731dfae0c"
      },
      "source": [
        "x = \"Python Programming is\"\n",
        "y = \"enjoying\"\n",
        "z = x + y\n",
        "print(z)"
      ],
      "execution_count": 2,
      "outputs": [
        {
          "output_type": "stream",
          "text": [
            "Python Programming isenjoying\n"
          ],
          "name": "stdout"
        }
      ]
    },
    {
      "cell_type": "code",
      "metadata": {
        "colab": {
          "base_uri": "https://localhost:8080/"
        },
        "id": "EkP4yk0Dqak_",
        "outputId": "2f67ce7d-aa46-4559-cb2e-4ec0a05214a8"
      },
      "source": [
        "b = \"Sally\"\n",
        "b = int(4) #This will display a whole number \n",
        "b = \"John\"\n",
        "b = float(4) #This will display a decimal number \n",
        "\n",
        "print(b)"
      ],
      "execution_count": 10,
      "outputs": [
        {
          "output_type": "stream",
          "text": [
            "4.0\n"
          ],
          "name": "stdout"
        }
      ]
    },
    {
      "cell_type": "code",
      "metadata": {
        "colab": {
          "base_uri": "https://localhost:8080/"
        },
        "id": "TNA08nr3qcOV",
        "outputId": "c13408cf-a6d2-43d3-f037-a61c4a1e7f7c"
      },
      "source": [
        "x = 5\n",
        "y = \"John\"\n",
        "\n",
        "print(type(x))\n",
        "print(type(y))"
      ],
      "execution_count": 11,
      "outputs": [
        {
          "output_type": "stream",
          "text": [
            "<class 'int'>\n",
            "<class 'str'>\n"
          ],
          "name": "stdout"
        }
      ]
    },
    {
      "cell_type": "code",
      "metadata": {
        "colab": {
          "base_uri": "https://localhost:8080/"
        },
        "id": "lf1EZUqIqfo1",
        "outputId": "7d714ead-43f5-4bdf-9b64-b1f4694ccfbc"
      },
      "source": [
        "b = 'Sally'\n",
        "print(b)"
      ],
      "execution_count": 12,
      "outputs": [
        {
          "output_type": "stream",
          "text": [
            "Sally\n"
          ],
          "name": "stdout"
        }
      ]
    },
    {
      "cell_type": "code",
      "metadata": {
        "colab": {
          "base_uri": "https://localhost:8080/"
        },
        "id": "zO22nriWqh8W",
        "outputId": "b4451442-3e16-42f2-ebff-b419f81806bc"
      },
      "source": [
        "\n",
        "b = 5\n",
        "B = \"Sally\"\n",
        "\n",
        "print(b,B)"
      ],
      "execution_count": 13,
      "outputs": [
        {
          "output_type": "stream",
          "text": [
            "5 Sally\n"
          ],
          "name": "stdout"
        }
      ]
    },
    {
      "cell_type": "code",
      "metadata": {
        "colab": {
          "base_uri": "https://localhost:8080/"
        },
        "id": "qabRLG7GqkNO",
        "outputId": "aa0987d0-8b6e-4aee-966b-f53da2b54d76"
      },
      "source": [
        "x, y, z = \"one\",\"two\",\"three\"\n",
        "print(x)\n",
        "print(y)\n",
        "print(z)\n",
        "\n",
        "x = y = z = \"four\"\n",
        "print(x,y,z)"
      ],
      "execution_count": 14,
      "outputs": [
        {
          "output_type": "stream",
          "text": [
            "one\n",
            "two\n",
            "three\n",
            "four four four\n"
          ],
          "name": "stdout"
        }
      ]
    },
    {
      "cell_type": "code",
      "metadata": {
        "colab": {
          "base_uri": "https://localhost:8080/"
        },
        "id": "jePe-F8PrJkl",
        "outputId": "34200976-b8f9-4274-f5d6-e1c629cf8a3f"
      },
      "source": [
        "#x = \"enjoying\"\n",
        "#print(\"Python programming is \" + x)\n",
        "\n",
        "x = \"Python programming is \"\n",
        "y = \"enjoying\"\n",
        "z = x + y \n",
        "print(z)"
      ],
      "execution_count": 15,
      "outputs": [
        {
          "output_type": "stream",
          "text": [
            "Python programming is enjoying\n"
          ],
          "name": "stdout"
        }
      ]
    },
    {
      "cell_type": "code",
      "metadata": {
        "colab": {
          "base_uri": "https://localhost:8080/"
        },
        "id": "qSDNX32grO_e",
        "outputId": "02b8c09c-31dc-49b7-93c0-e8d64847a6f7"
      },
      "source": [
        "\n",
        "x = 5 \n",
        "y = 3\n",
        "sum = x+y\n",
        "#print(x+y)\n",
        "print(sum)"
      ],
      "execution_count": 17,
      "outputs": [
        {
          "output_type": "stream",
          "text": [
            "8\n"
          ],
          "name": "stdout"
        }
      ]
    },
    {
      "cell_type": "code",
      "metadata": {
        "colab": {
          "base_uri": "https://localhost:8080/"
        },
        "id": "e1XTSXbjrrXV",
        "outputId": "c8a557dd-9d9f-4cbd-86f2-cf8879ec0abf"
      },
      "source": [
        "a, b, c = 0, -1, 6\n",
        "c %= 3  #This will display the remainder of 6 divided by 3 \n",
        "c"
      ],
      "execution_count": 18,
      "outputs": [
        {
          "output_type": "execute_result",
          "data": {
            "text/plain": [
              "0"
            ]
          },
          "metadata": {},
          "execution_count": 18
        }
      ]
    },
    {
      "cell_type": "code",
      "metadata": {
        "colab": {
          "base_uri": "https://localhost:8080/"
        },
        "id": "nxHIfNDdlz-f",
        "outputId": "8ccc4af2-96e4-43e5-8ce7-783f41d0ecad"
      },
      "source": [
        "x = 5\n",
        "y = 3\n",
        "x>2 and y>4\n"
      ],
      "execution_count": 8,
      "outputs": [
        {
          "output_type": "execute_result",
          "data": {
            "text/plain": [
              "False"
            ]
          },
          "metadata": {},
          "execution_count": 8
        }
      ]
    },
    {
      "cell_type": "code",
      "metadata": {
        "id": "gFjLAOEWo-jv"
      },
      "source": [
        "x = 5\n",
        "y = 3\n",
        "x>2 and y>4\n"
      ],
      "execution_count": null,
      "outputs": []
    },
    {
      "cell_type": "code",
      "metadata": {
        "colab": {
          "base_uri": "https://localhost:8080/"
        },
        "id": "i41PLanHl6De",
        "outputId": "8b0caefa-f869-4913-a7fd-a940a59247ed"
      },
      "source": [
        "a,b,c= 0, -1,6\n",
        "c%=2\n",
        "c"
      ],
      "execution_count": 5,
      "outputs": [
        {
          "output_type": "execute_result",
          "data": {
            "text/plain": [
              "0"
            ]
          },
          "metadata": {},
          "execution_count": 5
        }
      ]
    },
    {
      "cell_type": "code",
      "metadata": {
        "colab": {
          "base_uri": "https://localhost:8080/"
        },
        "id": "R7WRmcQgl6F2",
        "outputId": "00f3c8a5-a37d-4520-a8c2-c4558437b855"
      },
      "source": [
        "x = 3\n",
        "y = 5\n",
        "x is not y"
      ],
      "execution_count": 9,
      "outputs": [
        {
          "output_type": "execute_result",
          "data": {
            "text/plain": [
              "True"
            ]
          },
          "metadata": {},
          "execution_count": 9
        }
      ]
    }
  ]
}